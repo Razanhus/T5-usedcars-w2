{
  "cells": [
    {
      "cell_type": "markdown",
      "metadata": {
        "id": "view-in-github",
        "colab_type": "text"
      },
      "source": [
        "<a href=\"https://colab.research.google.com/github/Razanhus/T5-usedcars-w2/blob/main/JSON.ipynb\" target=\"_parent\"><img src=\"https://colab.research.google.com/assets/colab-badge.svg\" alt=\"Open In Colab\"/></a>"
      ]
    },
    {
      "cell_type": "markdown",
      "id": "cb895b6d",
      "metadata": {
        "id": "cb895b6d"
      },
      "source": [
        "# JSON Tutorial\n",
        "\n",
        "This tutorial will cover the basics of working with JSON in Python."
      ]
    },
    {
      "cell_type": "markdown",
      "id": "2ae2e89e",
      "metadata": {
        "id": "2ae2e89e"
      },
      "source": [
        "## What is JSON?\n",
        "\n",
        "JSON (JavaScript Object Notation) is a lightweight data interchange format that's easy for humans to read and write, and easy for machines to parse and generate. JSON is built on two structures:\n",
        "\n",
        "1. A collection of name/value pairs (often called an object, dictionary, hash table, keyed list, or associative array).\n",
        "2. An ordered list of values (often called an array, list, or sequence).\n",
        "\n",
        "JSON is language-independent but uses conventions familiar to programmers of the C-family of languages, including C, C++, Java, JavaScript, Perl, Python, and many others."
      ]
    },
    {
      "cell_type": "markdown",
      "id": "00fb7584",
      "metadata": {
        "id": "00fb7584"
      },
      "source": [
        "## Working with JSON in Python\n",
        "\n",
        "Python has a built-in library called `json` for working with JSON data."
      ]
    },
    {
      "cell_type": "code",
      "execution_count": null,
      "id": "028b356c",
      "metadata": {
        "id": "028b356c"
      },
      "outputs": [],
      "source": [
        "import json"
      ]
    },
    {
      "cell_type": "markdown",
      "id": "4560d198",
      "metadata": {
        "id": "4560d198"
      },
      "source": [
        "### Converting Python Objects to JSON\n",
        "\n",
        "You can convert Python objects such as lists and dictionaries to JSON using the `json.dumps()` method."
      ]
    },
    {
      "cell_type": "code",
      "execution_count": null,
      "id": "fc15f6a1",
      "metadata": {
        "id": "fc15f6a1"
      },
      "outputs": [],
      "source": [
        "# Python dictionary\n",
        "person_dict = {\n",
        "    \"name\": \"John\",\n",
        "    \"age\": 30,\n",
        "    \"city\": \"New York\"\n",
        "}\n",
        "\n",
        "# Convert dictionary to JSON string\n",
        "person_json = json.dumps(person_dict)\n",
        "print(person_json)"
      ]
    },
    {
      "cell_type": "markdown",
      "id": "fd4b0ab1",
      "metadata": {
        "id": "fd4b0ab1"
      },
      "source": [
        "### Converting JSON to Python Objects\n",
        "\n",
        "You can convert JSON data back into Python objects using the `json.loads()` method."
      ]
    },
    {
      "cell_type": "code",
      "execution_count": null,
      "id": "a310c6e7",
      "metadata": {
        "id": "a310c6e7"
      },
      "outputs": [],
      "source": [
        "# JSON string\n",
        "person_json = '{\"name\": \"John\", \"age\": 30, \"city\": \"New York\"}'\n",
        "\n",
        "# Convert JSON string to Python dictionary\n",
        "person_dict = json.loads(person_json)\n",
        "print(person_dict)"
      ]
    },
    {
      "cell_type": "markdown",
      "id": "3937199c",
      "metadata": {
        "id": "3937199c"
      },
      "source": [
        "### Reading JSON from a File\n",
        "\n",
        "You can read JSON data from a file using the `json.load()` method."
      ]
    },
    {
      "cell_type": "code",
      "execution_count": null,
      "id": "45a26180",
      "metadata": {
        "id": "45a26180"
      },
      "outputs": [],
      "source": [
        "# Assuming we have a JSON file named 'person.json' with the following content:\n",
        "# {\n",
        "#     \"name\": \"John\",\n",
        "#     \"age\": 30,\n",
        "#     \"city\": \"New York\"\n",
        "# }\n",
        "\n",
        "with open('person.json', 'r') as file:\n",
        "    person_dict = json.load(file)\n",
        "    print(person_dict)"
      ]
    },
    {
      "cell_type": "markdown",
      "id": "8158c556",
      "metadata": {
        "id": "8158c556"
      },
      "source": [
        "### Writing JSON to a File\n",
        "\n",
        "You can write JSON data to a file using the `json.dump()` method."
      ]
    },
    {
      "cell_type": "code",
      "execution_count": null,
      "id": "60952867",
      "metadata": {
        "id": "60952867"
      },
      "outputs": [],
      "source": [
        "# Python dictionary\n",
        "person_dict = {\n",
        "    \"name\": \"John\",\n",
        "    \"age\": 30,\n",
        "    \"city\": \"New York\"\n",
        "}\n",
        "\n",
        "# Write dictionary to JSON file\n",
        "with open('person.json', 'w') as file:\n",
        "    json.dump(person_dict, file)"
      ]
    },
    {
      "cell_type": "markdown",
      "id": "26e5a744",
      "metadata": {
        "id": "26e5a744"
      },
      "source": [
        "### Pretty Printing JSON\n",
        "\n",
        "You can use the `json.dumps()` method with the `indent` parameter to pretty print JSON data."
      ]
    },
    {
      "cell_type": "code",
      "execution_count": null,
      "id": "802948bd",
      "metadata": {
        "id": "802948bd"
      },
      "outputs": [],
      "source": [
        "# Python dictionary\n",
        "person_dict = {\n",
        "    \"name\": \"John\",\n",
        "    \"age\": 30,\n",
        "    \"city\": \"New York\"\n",
        "}\n",
        "\n",
        "# Convert dictionary to JSON string with indentation\n",
        "person_json = json.dumps(person_dict, indent=4)\n",
        "print(person_json)"
      ]
    },
    {
      "cell_type": "markdown",
      "id": "d53b04ab",
      "metadata": {
        "id": "d53b04ab"
      },
      "source": [
        "## Summary\n",
        "\n",
        "In this tutorial, we've covered the basics of working with JSON in Python, including converting between Python objects and JSON, reading from and writing to JSON files, and pretty printing JSON data."
      ]
    }
  ],
  "metadata": {
    "colab": {
      "provenance": [],
      "include_colab_link": true
    },
    "language_info": {
      "name": "python"
    },
    "kernelspec": {
      "name": "python3",
      "display_name": "Python 3"
    }
  },
  "nbformat": 4,
  "nbformat_minor": 5
}